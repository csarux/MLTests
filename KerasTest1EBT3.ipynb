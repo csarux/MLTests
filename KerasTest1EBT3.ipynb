{
  "nbformat": 4,
  "nbformat_minor": 0,
  "metadata": {
    "colab": {
      "name": "KerasTest1EBT3.ipynb",
      "provenance": [],
      "authorship_tag": "ABX9TyPzdH0NvhJQh2fXVeWSIwhH",
      "include_colab_link": true
    },
    "kernelspec": {
      "name": "python3",
      "display_name": "Python 3"
    }
  },
  "cells": [
    {
      "cell_type": "markdown",
      "metadata": {
        "id": "view-in-github",
        "colab_type": "text"
      },
      "source": [
        "<a href=\"https://colab.research.google.com/github/csarux/MLTests/blob/main/KerasTest1EBT3.ipynb\" target=\"_parent\"><img src=\"https://colab.research.google.com/assets/colab-badge.svg\" alt=\"Open In Colab\"/></a>"
      ]
    },
    {
      "cell_type": "markdown",
      "metadata": {
        "id": "4isMjAvNkaQ2"
      },
      "source": [
        "# Inversión del modelo sensitométrico mediante Deep Learning"
      ]
    },
    {
      "cell_type": "markdown",
      "metadata": {
        "id": "MYmHEK4clEKC"
      },
      "source": [
        "Importación de librerias"
      ]
    },
    {
      "cell_type": "code",
      "metadata": {
        "id": "_QzTxWYTlHpF"
      },
      "source": [
        "# Import pandas \n",
        "import pandas as pd"
      ],
      "execution_count": 1,
      "outputs": []
    },
    {
      "cell_type": "code",
      "metadata": {
        "id": "U6tftRBqp4fu"
      },
      "source": [
        "import matplotlib.pyplot as plt\n",
        "import matplotlib as mpl"
      ],
      "execution_count": 2,
      "outputs": []
    },
    {
      "cell_type": "code",
      "metadata": {
        "id": "JzllN-x6uMiQ"
      },
      "source": [
        "import numpy as np"
      ],
      "execution_count": 3,
      "outputs": []
    },
    {
      "cell_type": "code",
      "metadata": {
        "id": "9_gREHjGNCZe"
      },
      "source": [
        "# Import `train_test_split` from `sklearn.model_selection`\n",
        "from sklearn.model_selection import train_test_split\n",
        "# Import `StandardScaler` from `sklearn.preprocessing`\n",
        "from sklearn.preprocessing import StandardScaler\n",
        "# Estratificación de los datos para la regresión\n",
        "from sklearn.model_selection import StratifiedKFold"
      ],
      "execution_count": 15,
      "outputs": []
    },
    {
      "cell_type": "code",
      "metadata": {
        "id": "2wMyoNV8Uhc_"
      },
      "source": [
        "# Import `Sequential` from `keras.models`\n",
        "from keras.models import Sequential\n",
        "\n",
        "# Import `Dense` from `keras.layers`\n",
        "from keras.layers import Dense"
      ],
      "execution_count": 5,
      "outputs": []
    },
    {
      "cell_type": "markdown",
      "metadata": {
        "id": "gyhiNWFd4dph"
      },
      "source": [
        "Instalar módulo para dar formato científico a los gráficos"
      ]
    },
    {
      "cell_type": "code",
      "metadata": {
        "colab": {
          "base_uri": "https://localhost:8080/"
        },
        "id": "4QYdSVH14k5G",
        "outputId": "16b96a01-7b43-4f6e-efe6-8928bad51f0c"
      },
      "source": [
        "pip install SciencePlots"
      ],
      "execution_count": 6,
      "outputs": [
        {
          "output_type": "stream",
          "text": [
            "Collecting SciencePlots\n",
            "  Downloading https://files.pythonhosted.org/packages/52/32/725f673acbc200a3015a766e84b91dc2c65a2b99260de78a806f290dc48c/SciencePlots-1.0.6.tar.gz\n",
            "Requirement already satisfied: matplotlib in /usr/local/lib/python3.6/dist-packages (from SciencePlots) (3.2.2)\n",
            "Requirement already satisfied: python-dateutil>=2.1 in /usr/local/lib/python3.6/dist-packages (from matplotlib->SciencePlots) (2.8.1)\n",
            "Requirement already satisfied: cycler>=0.10 in /usr/local/lib/python3.6/dist-packages (from matplotlib->SciencePlots) (0.10.0)\n",
            "Requirement already satisfied: kiwisolver>=1.0.1 in /usr/local/lib/python3.6/dist-packages (from matplotlib->SciencePlots) (1.3.1)\n",
            "Requirement already satisfied: pyparsing!=2.0.4,!=2.1.2,!=2.1.6,>=2.0.1 in /usr/local/lib/python3.6/dist-packages (from matplotlib->SciencePlots) (2.4.7)\n",
            "Requirement already satisfied: numpy>=1.11 in /usr/local/lib/python3.6/dist-packages (from matplotlib->SciencePlots) (1.19.4)\n",
            "Requirement already satisfied: six>=1.5 in /usr/local/lib/python3.6/dist-packages (from python-dateutil>=2.1->matplotlib->SciencePlots) (1.15.0)\n",
            "Building wheels for collected packages: SciencePlots\n",
            "  Building wheel for SciencePlots (setup.py) ... \u001b[?25l\u001b[?25hdone\n",
            "  Created wheel for SciencePlots: filename=SciencePlots-1.0.6-cp36-none-any.whl size=4140 sha256=ad018eda816b5f52c5b529229302f14c4bf5bbea382377d85ad56a3a353b3098\n",
            "  Stored in directory: /root/.cache/pip/wheels/66/f8/97/c4d1f89a613feb90268bf62b192c3038e87e453d6d36b7726c\n",
            "Successfully built SciencePlots\n",
            "Installing collected packages: SciencePlots\n",
            "Successfully installed SciencePlots-1.0.6\n"
          ],
          "name": "stdout"
        }
      ]
    },
    {
      "cell_type": "markdown",
      "metadata": {
        "id": "9Yx7nq4J0ofX"
      },
      "source": [
        "Configurar el estilo de los gráficos"
      ]
    },
    {
      "cell_type": "code",
      "metadata": {
        "id": "RxdDDksT0upV"
      },
      "source": [
        "# Para el light theme\n",
        "# plt.style.use(['/root/.config/matplotlib/stylelib/science.mplstyle', '/root/.config/matplotlib/stylelib/notebook.mplstyle'])\n",
        "\n",
        "# Para el lado oscuro\n",
        "plt.style.use(['/root/.config/matplotlib/stylelib/science.mplstyle', '/root/.config/matplotlib/stylelib/notebook.mplstyle', '/root/.config/matplotlib/stylelib/high-vis.mplstyle', 'dark_background'])\n",
        "mpl.rcParams['axes.facecolor']='333333'\n",
        "mpl.rcParams['figure.facecolor']='222222'"
      ],
      "execution_count": 7,
      "outputs": []
    },
    {
      "cell_type": "markdown",
      "metadata": {
        "id": "bq7CflIhlHPY"
      },
      "source": [
        "## Acondicionamiento de los datos"
      ]
    },
    {
      "cell_type": "markdown",
      "metadata": {
        "id": "OW1yUQU2ldeD"
      },
      "source": [
        "Definir las funciones del modelo sensitométrico para los tres canales de color"
      ]
    },
    {
      "cell_type": "code",
      "metadata": {
        "id": "uRUf7CF8geuW"
      },
      "source": [
        "# Fase roja\r\n",
        "def d2prf(D):\r\n",
        "  return 0.5*(0.601*(1-np.exp(-0.2*D-0.022*D**2)) + 0.159 * (1-np.exp(-0.092*D)))\r\n",
        "# Fase verde\r\n",
        "def d2pgf(D):\r\n",
        "  return 0.5*(0.367*(1-np.exp(-0.2*D-0.004*D**2)) + 0.467 * (1-np.exp(-0.092*D)))\r\n",
        "# Fase azul\r\n",
        "def d2pbf(D):\r\n",
        "  return 0.5*(0.109*(1-np.exp(-0.2*D-0.002*D**2)) + 0.418 * (1-np.exp(-0.092*D)))"
      ],
      "execution_count": 8,
      "outputs": []
    },
    {
      "cell_type": "code",
      "metadata": {
        "id": "HlLMYpxxlmE-"
      },
      "source": [
        "Da = np.arange(0.3, 5., 0.001)"
      ],
      "execution_count": 9,
      "outputs": []
    },
    {
      "cell_type": "code",
      "metadata": {
        "id": "uFquqV7nj5os"
      },
      "source": [
        "da = np.array([[d2prf(D), d2pgf(D), d2pbf(D)] for D in Da])"
      ],
      "execution_count": 10,
      "outputs": []
    },
    {
      "cell_type": "code",
      "metadata": {
        "id": "HGZm5RL0kja1"
      },
      "source": [
        "DSa = 10.**-da"
      ],
      "execution_count": 11,
      "outputs": []
    },
    {
      "cell_type": "code",
      "metadata": {
        "id": "oDtZr8zSoCck"
      },
      "source": [
        "def DSf(D):\r\n",
        "  dv = np.array([d2prf(D), d2pgf(D), d2pbf(D)])\r\n",
        "  return 10.**-dv"
      ],
      "execution_count": 12,
      "outputs": []
    },
    {
      "cell_type": "markdown",
      "metadata": {
        "id": "gzSxTSxAmkgN"
      },
      "source": [
        "Escalar los datos"
      ]
    },
    {
      "cell_type": "code",
      "metadata": {
        "id": "7X1QcOi-m3jG"
      },
      "source": [
        "# Scale the data with `StandardScaler`\n",
        "\n",
        "# Define the scaler \n",
        "scaler = StandardScaler().fit(DSa)\n",
        "\n",
        "# Scale the train set\n",
        "DSa = scaler.transform(DSa)"
      ],
      "execution_count": 13,
      "outputs": []
    },
    {
      "cell_type": "markdown",
      "metadata": {
        "id": "Jli0RMxwpAeN"
      },
      "source": [
        "Separar entrenamiento y evaluación"
      ]
    },
    {
      "cell_type": "code",
      "metadata": {
        "id": "An9M8iunpFyO"
      },
      "source": [
        "# Split the data up in train and test sets\n",
        "DS_train, DS_test, D_train, D_test = train_test_split(DSa, Da, test_size=0.25, random_state=42)"
      ],
      "execution_count": 20,
      "outputs": []
    },
    {
      "cell_type": "markdown",
      "metadata": {
        "id": "cOyLLV73m9qJ"
      },
      "source": [
        "## Modelo"
      ]
    },
    {
      "cell_type": "markdown",
      "metadata": {
        "id": "K6Uy_PhnpZYg"
      },
      "source": [
        "Definir el modelo"
      ]
    },
    {
      "cell_type": "code",
      "metadata": {
        "id": "KIaoHtmenGH3"
      },
      "source": [
        "model = Sequential()\n",
        "model.add(Dense(16, input_dim=3, activation='relu'))\n",
        "model.add(Dense(1))\n",
        "model.compile(optimizer='rmsprop', loss='mse', metrics=['mse', 'mae'])"
      ],
      "execution_count": 21,
      "outputs": []
    },
    {
      "cell_type": "markdown",
      "metadata": {
        "id": "ldY_zmrtpoK-"
      },
      "source": [
        "Entrenar el modelo"
      ]
    },
    {
      "cell_type": "code",
      "metadata": {
        "colab": {
          "base_uri": "https://localhost:8080/"
        },
        "id": "b9QSzon8n_SL",
        "outputId": "8b20ff65-8d47-42a8-ed25-b0741702e868"
      },
      "source": [
        "model.fit(DS_train, D_train, epochs=1000, verbose=1)"
      ],
      "execution_count": 36,
      "outputs": [
        {
          "output_type": "execute_result",
          "data": {
            "text/plain": [
              "<tensorflow.python.keras.callbacks.History at 0x7f5601271cc0>"
            ]
          },
          "metadata": {
            "tags": []
          },
          "execution_count": 36
        }
      ]
    },
    {
      "cell_type": "code",
      "metadata": {
        "id": "oSF9uBnWpzBU"
      },
      "source": [
        "D_pred = model.predict(DS_test)"
      ],
      "execution_count": 37,
      "outputs": []
    },
    {
      "cell_type": "code",
      "metadata": {
        "colab": {
          "base_uri": "https://localhost:8080/",
          "height": 367
        },
        "id": "qa8E3cQsqGTm",
        "outputId": "12ef9430-d04c-4c4e-88cf-0a124fa59fbc"
      },
      "source": [
        "plt.plot(D_pred[...,0]/D_test, '.')\n",
        "plt.show()"
      ],
      "execution_count": 38,
      "outputs": [
        {
          "output_type": "display_data",
          "data": {
            "image/png": "[encoded data removed]",
            "text/plain": [
              "<Figure size 576x432 with 1 Axes>"
            ]
          },
          "metadata": {
            "tags": []
          }
        }
      ]
    },
    {
      "cell_type": "code",
      "metadata": {
        "colab": {
          "base_uri": "https://localhost:8080/"
        },
        "id": "b0uYvk8cqQsX",
        "outputId": "aa0b1bfd-9ad9-4cc7-87e3-6a6f1ab2d1aa"
      },
      "source": [
        "D_pred[..., 0]"
      ],
      "execution_count": 31,
      "outputs": [
        {
          "output_type": "execute_result",
          "data": {
            "text/plain": [
              "array([4.5952425, 2.7328606, 0.6844379, ..., 4.4342046, 1.199502 ,\n",
              "       3.0553546], dtype=float32)"
            ]
          },
          "metadata": {
            "tags": []
          },
          "execution_count": 31
        }
      ]
    },
    {
      "cell_type": "code",
      "metadata": {
        "id": "ficZWh2RqwBz"
      },
      "source": [
        ""
      ],
      "execution_count": null,
      "outputs": []
    }
  ]
}